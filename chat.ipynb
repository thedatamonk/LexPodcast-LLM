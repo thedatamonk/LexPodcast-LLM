{
 "cells": [
  {
   "cell_type": "code",
   "execution_count": 1,
   "metadata": {},
   "outputs": [
    {
     "name": "stdout",
     "output_type": "stream",
     "text": [
      "Connecting to Qdrant local instance.\n",
      "Client connected, but the collection status is not optimal.\n"
     ]
    }
   ],
   "source": [
    "from lexllm.agents import ChatAgent\n",
    "\n",
    "\n",
    "lex_agent = ChatAgent()"
   ]
  },
  {
   "cell_type": "code",
   "execution_count": 2,
   "metadata": {},
   "outputs": [
    {
     "name": "stdout",
     "output_type": "stream",
     "text": [
      "The query is asking a question about a video.\n",
      "Retrieved chapters...\n",
      "\n",
      "1. Starship (Score: 0.853)\n",
      "2. Starship (Score: 0.838)\n",
      "****************************************************************************************************\n",
      "PROMPT:\n",
      "\n",
      "\n",
      "\n",
      "1. You are given a question related to any of the Lex Fridman's podcast videos on Youtube.\n",
      "2. Your goal is to answer that question as accurately as possible using ONLY the context given below.\n",
      "3. The context contains salient points from the relevant sections of the podcast. You have to focus only on those points that answer the question accurately.\n",
      "4. If you do not find any points that can answer the question, just output the string \"I don't know\" (without quotes). Do not output anything else.\n",
      "\n",
      "QUESTION: What is the biggest problem with Starship?\n",
      "\n",
      "CONTEXT: \n",
      "        \n",
      "Starship:\n",
      "\n",
      "1. The takeoff being easier than the landing is a significant problem for Starship, as it requires precise control to land perfectly.\n",
      "2. Starship aims to reduce the cost of launching per kilogram, which could revolutionize the cost to launch large telescopes and other payloads into space.\n",
      "3. Starship's potential to launch arbitrarily large masses into space could enable the creation of multiple, specialized space-based telescopes instead of sharing resources on a single telescope like JWST.\n",
      "\n",
      "**Starship:**\n",
      "\n",
      "1. The biggest milestone for Starship so far is the hop of the Star Hopper, which utilized SpaceX's new Raptor engine and flew 150 meters in 2019.\n",
      "\n",
      "2. The rapid evolution and iteration of Starship's design leads to frequent discarding of built parts and evolving of subsystems, which can result in \"epic explosions\" due to the large amount of fuel carried.\n",
      "\n",
      "3. The Starship is expected to be the world's largest and most powerful rocket, fully reusable, and utilizing liquid methane and liquid oxygen as propellants with 33 Raptor engines on the booster and six on the upper stage.\n",
      "\n",
      "\n",
      "\n",
      "ANSWER:\n",
      "            \n",
      "\n",
      "The biggest problem with Starship is the challenge of precise control during landing. The fact that the takeoff is easier than the landing requires SpaceX to develop and refine their technology and control systems to ensure that the Starship can land perfectly, which is crucial for its reusability and cost-reduction goals.\n"
     ]
    }
   ],
   "source": [
    "answer = lex_agent.ask(\"What is the biggest problem with Starship?\")\n",
    "print (answer)"
   ]
  },
  {
   "cell_type": "code",
   "execution_count": 3,
   "metadata": {},
   "outputs": [
    {
     "name": "stdout",
     "output_type": "stream",
     "text": [
      "The query is requesting for a video summary.\n",
      "Summarizing chapter: Introduction..\n",
      "Summarizing chapter: Uncertainty..\n",
      "Summarizing chapter: Sex, power, and death..\n",
      "Summarizing chapter: Free will..\n",
      "Summarizing chapter: Consciousness..\n",
      "Summarizing chapter: Childhood..\n",
      "Summarizing chapter: Dancing..\n",
      "Summarizing chapter: Casual sex..\n",
      "Summarizing chapter: Camming..\n",
      "Summarizing chapter: OnlyFans..\n",
      "Video summary created.\n",
      "Summary of the Video:\n",
      "\n",
      "The podcast features Aella, a sex researcher and sex worker known for her large-scale human sexuality survey studies, blog (KnowingLess.com), OnlyFans, and thought-provoking Twitter polls. The conversation is characterized by uncertainty, curiosity, and differing viewpoints, with Aella embracing uncertainty in research by providing raw and honest interpretations of data and having a strong ego. The primary driver of human civilization is seen as a complex interplay of factors, including the desire for sex, love, power, and avoidance of death. From a scientific perspective, exploring the dynamics of sex, power, or death from a neuroscience, neurobiology, or artificial intelligence standpoint could lead to a deeper understanding of the human condition. Aella believes free will is an illusion, and consciousness is often confused with direct observation and replicable concepts, which cannot be measured. Despite her sexually repressed upbringing, Aella has a negative view of casual sex, and her experience with camming is positive but high-pressure. Money can buy happiness up to a certain point on OnlyFans, and marketing, self-promotion, and creativity are crucial for success on the platform. The conversation covers a wide range of topics, from sex and power to childhood and consciousness, providing a thought-provoking and engaging experience.\n"
     ]
    }
   ],
   "source": [
    "answer = lex_agent.ask(\"Summarize the video where Aella was the guest.\")\n",
    "print (answer)"
   ]
  },
  {
   "cell_type": "code",
   "execution_count": 4,
   "metadata": {},
   "outputs": [
    {
     "name": "stdout",
     "output_type": "stream",
     "text": [
      "The query is asking a question about a video.\n",
      "Retrieved chapters...\n",
      "\n",
      "1. 1 billion views and 1 billion subscribers (Score: 0.861)\n",
      "2. Mortality (Score: 0.854)\n",
      "****************************************************************************************************\n",
      "PROMPT:\n",
      "\n",
      "\n",
      "\n",
      "1. You are given a question related to any of the Lex Fridman's podcast videos on Youtube.\n",
      "2. Your goal is to answer that question as accurately as possible using ONLY the context given below.\n",
      "3. The context contains salient points from the relevant sections of the podcast. You have to focus only on those points that answer the question accurately.\n",
      "4. If you do not find any points that can answer the question, just output the string \"I don't know\" (without quotes). Do not output anything else.\n",
      "\n",
      "QUESTION: What is the view of MrBeast on mortality?\n",
      "\n",
      "CONTEXT: \n",
      "        \n",
      "Mortality:\n",
      "\n",
      "1. MrBeast believes that it's easier to get a high number of views on one video than spreading it out over multiple videos, as a great video will continue to be served by YouTube even years later.\n",
      "2. MrBeast's view on mortality is not explicitly stated, but he does mention that he wouldn't want to die while making a video, and has safety measures in place to prevent harm during video production.\n",
      "3. In a Twitter poll, MrBeast found that 45% of people would be willing to take $10,000 if it meant a random person on earth dies, which he found surprising.\n",
      "\n",
      "Mortality:\n",
      "\n",
      "1. MrBeast has recorded videos for release after his death, including videos scheduled for release years in the future and a video specifically for after his death. He has also considered creating a large amount of content to be released after his death to give the illusion of still being alive.\n",
      "2. MrBeast has expressed fear about death and the possibility of nothingness after death, but he is hopeful that advances in technology will allow for extended human lifespans, possibly up to 200 years.\n",
      "3. MrBeast has discussed the concept of digital immortality through AI models, but he is not interested in this option and would prefer to live a longer life in the physical world. He also discussed the idea of the value of art being tied to its finiteness.\n",
      "\n",
      "\n",
      "\n",
      "ANSWER:\n",
      "            \n",
      "\n",
      "MrBeast's view on mortality is quite nuanced. He has shown to be pragmatic about death in the sense that he has recorded videos for release after his passing and has even considered creating a large amount of content to be released posthumously. However, he also expresses fear about the concept of nothingness after death and hopes that advances in technology will lead to extended human lifespans. MrBeast doesn't seem interested in the idea of digital immortality through AI models and instead prefers to live a longer life in the physical world. He also ponders on the idea that the value of art might be tied to its finiteness.\n"
     ]
    }
   ],
   "source": [
    "answer = lex_agent.ask(\"What is the view of MrBeast on mortality?\")\n",
    "print (answer)"
   ]
  },
  {
   "cell_type": "code",
   "execution_count": 5,
   "metadata": {},
   "outputs": [
    {
     "name": "stdout",
     "output_type": "stream",
     "text": [
      "The query is asking a question about a video.\n",
      "Retrieved chapters...\n",
      "\n",
      "1. Introduction (Score: 0.851)\n",
      "2. Mental health (Score: 0.824)\n",
      "****************************************************************************************************\n",
      "PROMPT:\n",
      "\n",
      "\n",
      "\n",
      "1. You are given a question related to any of the Lex Fridman's podcast videos on Youtube.\n",
      "2. Your goal is to answer that question as accurately as possible using ONLY the context given below.\n",
      "3. The context contains salient points from the relevant sections of the podcast. You have to focus only on those points that answer the question accurately.\n",
      "4. If you do not find any points that can answer the question, just output the string \"I don't know\" (without quotes). Do not output anything else.\n",
      "\n",
      "QUESTION: What is the view of Mark Zuckerberg on mental health?\n",
      "\n",
      "CONTEXT: \n",
      "        \n",
      "Introduction:\n",
      "\n",
      "1. Mark Zuckerberg, CEO of Meta, believes that people expressing themselves is a good thing, indicating his appreciation for free speech.\n",
      "2. He shared that he cares a lot about how people feel when they use Meta's products, suggesting a concern for user mental health.\n",
      "3. Zuckerberg aims to understand the human being before him, implying an empathetic approach to managing the company's responsibilities, which includes addressing mental health issues on the platform.\n",
      "\n",
      "Mental health:\n",
      "\n",
      "1. Mark Zuckerberg finds that giving into his innate nature to work is the best thing for his mental health, and he feels the happiest when he does whatever he wants with his working brain.\n",
      "2. He believes in having no constraints when it comes to work, and instead works when he feels like working and takes time off when he doesn't, even if it means working for seven or eight days nonstop.\n",
      "3. Surrounding himself with people who encourage him to keep going and are passionate about the same things as him is important for his mental health, as he believes the people you're around dictate the outcome.\n",
      "\n",
      "\n",
      "\n",
      "ANSWER:\n",
      "            \n",
      "\n",
      "Mark Zuckerberg's view on mental health is that it's important for people to do what makes them happy and to prioritize their own well-being. He believes in giving into one's innate nature and working on their own terms, without constraints on time or duration. Surrounding oneself with supportive and like-minded people is also essential for his mental health, as he believes they play a significant role in shaping our state of mind.\n"
     ]
    }
   ],
   "source": [
    "answer = lex_agent.ask(\"What is the view of Mark Zuckerberg on mental health?\")\n",
    "print (answer)"
   ]
  }
 ],
 "metadata": {
  "kernelspec": {
   "display_name": "venv",
   "language": "python",
   "name": "python3"
  },
  "language_info": {
   "codemirror_mode": {
    "name": "ipython",
    "version": 3
   },
   "file_extension": ".py",
   "mimetype": "text/x-python",
   "name": "python",
   "nbconvert_exporter": "python",
   "pygments_lexer": "ipython3",
   "version": "3.9.10"
  }
 },
 "nbformat": 4,
 "nbformat_minor": 2
}
