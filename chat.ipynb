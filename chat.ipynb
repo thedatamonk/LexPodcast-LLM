{
 "cells": [
  {
   "cell_type": "code",
   "execution_count": 2,
   "metadata": {},
   "outputs": [
    {
     "name": "stdout",
     "output_type": "stream",
     "text": [
      "Connecting to Qdrant local instance.\n",
      "Client connected, but the collection status is not optimal.\n"
     ]
    }
   ],
   "source": [
    "from lexllm.agents import ChatAgent\n",
    "\n",
    "\n",
    "lex_agent = ChatAgent()"
   ]
  },
  {
   "cell_type": "code",
   "execution_count": 5,
   "metadata": {},
   "outputs": [
    {
     "name": "stdout",
     "output_type": "stream",
     "text": [
      "The query is asking a question about a video.\n",
      "Retrieved chapters...\n",
      "\n",
      "1. When will Tesla solve self-driving? (Score: 0.856)\n",
      "2. Autonomous driving (Score: 0.841)\n",
      "****************************************************************************************************\n",
      "PROMPT:\n",
      "\n",
      "\n",
      "\n",
      "1. You are given a question related to any of the Lex Fridman's podcast videos on Youtube.\n",
      "2. Your goal is to answer that question as accurately as possible using ONLY the context given below.\n",
      "3. The context contains salient points from the relevant sections of the podcast. You have to focus only on those points that answer the question accurately.\n",
      "4. If you do not find any points that can answer the question, just output the string \"I don't know\" (without quotes). Do not output anything else.\n",
      "\n",
      "QUESTION: What will self driving be completely solved according to Elon Musk?\n",
      "\n",
      "CONTEXT: \n",
      "        \n",
      "When will Tesla solve self-driving?\n",
      "\n",
      "1. According to Elon Musk, it is looking quite likely that Tesla will solve level four FSD (Full Self-Driving) next year.\n",
      "2. The solution to the full self-driving problem will involve the current pool of FSD beta candidates gaining greater degrees of autonomy.\n",
      "3. The probability of an accident on FSD must be less than that of the average human, and significantly lower before Tesla would consider it safe enough to release to the public. Tesla aims for at least two or three times higher safety than a human.\n",
      "\n",
      "Autonomous driving:\n",
      "\n",
      "1. Elon Musk believes that the problem of autonomous driving is solvable and has a strong intuition that it is tractable, according to Andrej Karpathy.\n",
      "2. The team at Tesla is making significant progress towards solving the problem of autonomous driving, as stated by Andrej Karpathy.\n",
      "3. The solution to the problem of autonomous driving could be simplified into something quite trivial with more cars driving perfectly at scale, as suggested by Andrej Karpathy.\n",
      "\n",
      "\n",
      "\n",
      "ANSWER:\n",
      "            \n",
      "\n",
      "According to the context provided, Elon Musk believes that Tesla is \"looking quite likely\" to solve level four FSD (Full Self-Driving) next year, which implies that self-driving will be \"completely solved\" when they achieve level four autonomy.\n",
      "However, it's important to note that the context doesn't provide a specific year, so we can only infer that it's \"next year\" from the perspective of when the podcast was recorded.\n",
      "Additionally, the safety margins mentioned (at least two or three times higher safety than a human) also need to be achieved before Tesla would consider it safe enough to release to the public.\n"
     ]
    }
   ],
   "source": [
    "answer = lex_agent.ask(\"What will self driving be completely solved according to Elon Musk?\")\n",
    "print (answer)"
   ]
  },
  {
   "cell_type": "code",
   "execution_count": 3,
   "metadata": {},
   "outputs": [
    {
     "name": "stdout",
     "output_type": "stream",
     "text": [
      "The query is requesting for a video summary.\n",
      "Summarizing chapter: Introduction..\n",
      "Summarizing chapter: Uncertainty..\n",
      "Summarizing chapter: Sex, power, and death..\n",
      "Summarizing chapter: Free will..\n",
      "Summarizing chapter: Consciousness..\n",
      "Summarizing chapter: Childhood..\n",
      "Summarizing chapter: Dancing..\n",
      "Summarizing chapter: Casual sex..\n",
      "Summarizing chapter: Camming..\n",
      "Summarizing chapter: OnlyFans..\n",
      "Video summary created.\n",
      "Summary of the Video:\n",
      "\n",
      "The podcast features Aella, a sex researcher, sex worker, and blogger who shares her insights on human sexuality and her experiences on platforms like OnlyFans and escorting. She is known for her curiosity, creativity, and fearlessness in exploring topics related to sex work and human sexuality. The conversation between Aella and the host is marked by their disagreement on various issues, adding to the interest of their conversation.\n",
      "\n",
      "Throughout the conversation, Aella and the host express their excitement towards uncertainty, believing that it often comes with novelty. They emphasize the importance of embracing uncertainty in intellectual pursuits and encourage transparency in research and writing. Aella believes that anyone can do science if they are curious and willing to learn, challenging the notion that science is an exclusive domain.\n",
      "\n",
      "The conversation touches on various themes, including sex, power, and death, as possible lenses to understand the human condition. Aella shares her perspective on free will, stating that it is an illusion, and that our sense of identity comes from this illusion. She also talks about her experiences with deconstructing her identity and takes delight in her current journey.\n",
      "\n",
      "Regarding consciousness, Aella differentiates between the direct observation of one's experience and the replicable and uncertain concept of consciousness that can be applied to multiple people. She emphasizes the difficulty in measuring and understanding consciousness and raises questions about applying the concept of consciousness to AI or other entities.\n",
      "\n",
      "Aella shares her experiences of being homeschooled and isolated due to her father's controlling nature. She discusses how she lost her faith and started questioning her beliefs, eventually feeling safer with her newfound beliefs despite the possibility of online backlash.\n",
      "\n",
      "In discussing dancing, Aella shares her experiences and enjoyment of various dance styles, emphasizing the challenge of solving a rapid puzzle while dancing and the importance of sensitivity and communication between dance partners.\n",
      "\n",
      "Reflecting on casual sex, Aella shares her feelings of it being \"not good\" and lacking chemistry with her partner. She approaches men for casual sex with direct language and discusses her limited knowledge about her own body due to her strict upbringing.\n",
      "\n",
      "The guest also discusses her experiences as a cam girl, highlighting the freedom, creativity, and generally positive interactions with viewers. She shares her strategies for marketing and self-promotion on OnlyFans, emphasizing the importance of external website and social media platforms to attract followers.\n",
      "\n",
      "In summary, the podcast features an engaging and thought-provoking conversation between Aella and the host, touching on various themes such as uncertainty, sex, power, death, free will, consciousness, childhood, dancing, and casual sex. Aella's unique perspectives, experiences, and insights contribute to the richness of the conversation, challenging and encouraging listeners to explore and question their perceptions and understanding of these themes.\n"
     ]
    }
   ],
   "source": [
    "answer = lex_agent.ask(\"Summarize the video where Aella was the guest.\")\n",
    "print (answer)"
   ]
  },
  {
   "cell_type": "code",
   "execution_count": 4,
   "metadata": {},
   "outputs": [
    {
     "name": "stdout",
     "output_type": "stream",
     "text": [
      "The query is asking a question about a video.\n",
      "Retrieved chapters...\n",
      "\n",
      "1. 1 billion views and 1 billion subscribers (Score: 0.861)\n",
      "2. Mortality (Score: 0.854)\n",
      "****************************************************************************************************\n",
      "PROMPT:\n",
      "\n",
      "\n",
      "\n",
      "1. You are given a question related to any of the Lex Fridman's podcast videos on Youtube.\n",
      "2. Your goal is to answer that question as accurately as possible using ONLY the context given below.\n",
      "3. The context contains salient points from the relevant sections of the podcast. You have to focus only on those points that answer the question accurately.\n",
      "4. If you do not find any points that can answer the question, just output the string \"I don't know\" (without quotes). Do not output anything else.\n",
      "\n",
      "QUESTION: What is the view of MrBeast on mortality?\n",
      "\n",
      "CONTEXT: \n",
      "        \n",
      "1 billion views and 1 billion subscribers:\n",
      "\n",
      "1. MrBeast believes that it is easier to get a large number of views on one video than a smaller number of views on many videos, as a great video will remain evergreen and keep getting served by YouTube.\n",
      "2. MrBeast's focus is on making great videos, rather than on arbitrary metrics such as subscriber count or views.\n",
      "3. MrBeast is not bothered by the idea of people watching disturbing content, as he believes it is human nature to be attracted to drama and extreme versions of it.\n",
      "\n",
      "Mortality:\n",
      "\n",
      "1. MrBeast has filmed videos for future release, including ones scheduled for 20 years in advance, as a way to create a digital presence that persists after his death. He has also recorded a video to be released upon his death, which he found to be a valuable and insightful exercise.\n",
      "2. MrBeast has contemplated the idea of creating a large amount of content and scheduling its release in the event of his death, as a way to create the impression of his ongoing presence in the digital realm.\n",
      "3. MrBeast has expressed a fear of death and a hope that advancements in technology will allow for a significant extension of human lifespan, if not outright immortality.\n",
      "\n",
      "\n",
      "\n",
      "ANSWER:\n",
      "            \n",
      "\n",
      "MrBeast's view on mortality is that it is a fearful prospect but also a motivator to create meaningful content.\n",
      "He has filmed videos for future release, including ones scheduled for 20 years in advance, and even recorded a video to be released upon his death.\n",
      "MrBeast hopes that advancements in technology will lead to a significant extension of human lifespan, if not outright immortality.\n"
     ]
    }
   ],
   "source": [
    "answer = lex_agent.ask(\"What is the view of MrBeast on mortality?\")\n",
    "print (answer)"
   ]
  },
  {
   "cell_type": "code",
   "execution_count": 3,
   "metadata": {},
   "outputs": [
    {
     "name": "stdout",
     "output_type": "stream",
     "text": [
      "The query is asking a question about a video.\n",
      "Retrieved chapters...\n",
      "\n",
      "1. Introduction (Score: 0.851)\n",
      "2. Mental health (Score: 0.824)\n",
      "****************************************************************************************************\n",
      "PROMPT:\n",
      "\n",
      "\n",
      "\n",
      "1. You are given a question related to any of the Lex Fridman's podcast videos on Youtube.\n",
      "2. Your goal is to answer that question as accurately as possible using ONLY the context given below.\n",
      "3. The context contains salient points from the relevant sections of the podcast. You have to focus only on those points that answer the question accurately.\n",
      "4. If you do not find any points that can answer the question, just output the string \"I don't know\" (without quotes). Do not output anything else.\n",
      "\n",
      "QUESTION: What is the view of Mark Zuckerberg on mental health?\n",
      "\n",
      "CONTEXT: \n",
      "        \n",
      "Introduction:\n",
      "\n",
      "1. Mark Zuckerberg believes that people expressing themselves is a good thing and he cares a lot about how people feel when they use Facebook products.\n",
      "2. Zuckerberg thinks about the 1 million people who take their own life every year and the many who suffer quietly in ways that numbers can never know.\n",
      "3. He acknowledges that social networks have the responsibility to reduce human suffering and lessen the immense suffering caused when they fail.\n",
      "\n",
      "Mental health:\n",
      "\n",
      "1. Mark Zuckerberg finds that giving into his innate nature to work, without any constraints, is what is best for his mental health. He believes in working when he feels like working and not working when he doesn't, which makes him feel the happiest.\n",
      "2. Surrounding oneself with people who encourage passion and hard work, rather than imposing constraints, is crucial for mental health. Mark Zuckerberg emphasizes the importance of having a support system that encourages one to keep going with their passions.\n",
      "3. The people one surrounds themselves with have a significant impact on their mental health. Mark Zuckerberg advises being selective about the people around you, as they can either positively or negatively affect your mental health and overall well-being.\n",
      "\n",
      "\n",
      "\n",
      "ANSWER:\n",
      "            \n",
      "\n",
      "Mark Zuckerberg has a nuanced view on mental health.\n",
      "He acknowledges the importance of reducing human suffering and recognizes the role social networks play in this regard.\n",
      "Personally, he finds that working without constraints and surrounding himself with supportive people who encourage his passions is best for his mental health.\n",
      "He emphasizes the importance of being selective about the people in one's life, as they can have a significant impact on mental health and overall well-being.\n"
     ]
    }
   ],
   "source": [
    "answer = lex_agent.ask(\"What is the view of Mark Zuckerberg on mental health?\")\n",
    "print (answer)"
   ]
  }
 ],
 "metadata": {
  "kernelspec": {
   "display_name": "venv",
   "language": "python",
   "name": "python3"
  },
  "language_info": {
   "codemirror_mode": {
    "name": "ipython",
    "version": 3
   },
   "file_extension": ".py",
   "mimetype": "text/x-python",
   "name": "python",
   "nbconvert_exporter": "python",
   "pygments_lexer": "ipython3",
   "version": "3.9.10"
  }
 },
 "nbformat": 4,
 "nbformat_minor": 2
}
